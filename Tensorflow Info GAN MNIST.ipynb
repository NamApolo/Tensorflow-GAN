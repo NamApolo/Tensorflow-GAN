{
 "cells": [
  {
   "cell_type": "markdown",
   "metadata": {},
   "source": [
    "# InfoGAN"
   ]
  },
  {
   "cell_type": "code",
   "execution_count": 1,
   "metadata": {
    "collapsed": true
   },
   "outputs": [],
   "source": [
    "import tensorflow as tf\n",
    "import numpy as np"
   ]
  },
  {
   "cell_type": "markdown",
   "metadata": {},
   "source": [
    "# Download & Load MNIST Data"
   ]
  },
  {
   "cell_type": "code",
   "execution_count": 2,
   "metadata": {
    "collapsed": true
   },
   "outputs": [],
   "source": [
    "from tensorflow.examples.tutorials.mnist import input_data"
   ]
  },
  {
   "cell_type": "code",
   "execution_count": 3,
   "metadata": {
    "collapsed": false
   },
   "outputs": [
    {
     "name": "stdout",
     "output_type": "stream",
     "text": [
      "Extracting MNIST_data/train-images-idx3-ubyte.gz\n",
      "Extracting MNIST_data/train-labels-idx1-ubyte.gz\n",
      "Extracting MNIST_data/t10k-images-idx3-ubyte.gz\n",
      "Extracting MNIST_data/t10k-labels-idx1-ubyte.gz\n"
     ]
    }
   ],
   "source": [
    "mnist = input_data.read_data_sets(\"MNIST_data/\", one_hot=True)"
   ]
  },
  {
   "cell_type": "code",
   "execution_count": null,
   "metadata": {
    "collapsed": true
   },
   "outputs": [],
   "source": []
  },
  {
   "cell_type": "code",
   "execution_count": 4,
   "metadata": {
    "collapsed": true
   },
   "outputs": [],
   "source": [
    "def fully_connected_layer(x, output_size, initializer=tf.random_uniform_initializer(), activation=tf.nn.relu, count=0):\n",
    "    w = tf.get_variable('w' + str(count), [x.get_shape()[1], output_size], initializer=initializer)\n",
    "    b = tf.get_variable('b' + str(count), [output_size], initializer=initializer, dtype=tf.float32, trainable=True)\n",
    "    \n",
    "    print(w.name, b.name)\n",
    "    \n",
    "    l = tf.nn.bias_add(tf.matmul(x, w), b)\n",
    "    \n",
    "    return activation(l) if activation!=None else l, l, w, b\n"
   ]
  },
  {
   "cell_type": "code",
   "execution_count": 5,
   "metadata": {
    "collapsed": true
   },
   "outputs": [],
   "source": [
    "class ModelMaker(object):\n",
    "    def __init__(self, layer_sizes):\n",
    "        # Fully Connected Layers\n",
    "        self.fcl_sizes = layer_sizes\n",
    "\n",
    "        \n",
    "    def create_layers(self, x, initializer=tf.truncated_normal_initializer, initializer_params={'dtype': tf.float32, 'stddev': 1e-1},\\\n",
    "                      name='noname', reuse=False):\n",
    "        if not reuse:\n",
    "            self.parameters = []\n",
    "\n",
    "        last_layer = x\n",
    "        last_size = int(np.prod(last_layer.get_shape()[1:]))\n",
    "\n",
    "        with tf.variable_scope(name, reuse=reuse) as scope:\n",
    "            # Generate Dense Layer\n",
    "            for layer_count, ((layer_size, param_dict), dropout_use, constant_dropout, dropout_rate) in enumerate(self.fcl_sizes):\n",
    "                last_layer, l, w, b = fully_connected_layer(x=last_layer, output_size=layer_size, \\\n",
    "                                                            initializer=initializer(**initializer_params), count=layer_count, **param_dict)\n",
    "                \n",
    "                if not reuse:\n",
    "                    self.parameters = self.parameters + [w, b]\n",
    "\n",
    "                if dropout_use:\n",
    "                    if constant_dropout:\n",
    "                        last_layer = tf.nn.dropout(last_layer, dropout_rate)\n",
    "                    else:\n",
    "                        last_layer = tf.nn.dropout(last_layer, self.dropout_rates[dropout_rate])\n",
    "\n",
    "                        \n",
    "                setattr(self, 'dense_%d_%s' % (layer_count+1, name), last_layer)\n",
    "\n",
    "        self.last_layer = last_layer"
   ]
  },
  {
   "cell_type": "code",
   "execution_count": 6,
   "metadata": {
    "collapsed": true
   },
   "outputs": [],
   "source": [
    "# Reference : https://github.com/GunhoChoi/LSGAN_TF/blob/master/LSGAN/LSGAN_TF.ipynb\n",
    "def LeakyReLU(x, leak=0.2, name='LeakyReLU'):\n",
    "    with tf.variable_scope(name):\n",
    "        f1 = 0.5 * (1 + leak)\n",
    "        f2 = 0.5 * (1 - leak)\n",
    "        return f1 * x + f2 * abs(x)"
   ]
  },
  {
   "cell_type": "code",
   "execution_count": 7,
   "metadata": {
    "collapsed": true
   },
   "outputs": [],
   "source": [
    "from PIL import Image\n",
    "def ArrayToImage(arr):\n",
    "    \n",
    "    size = np.sqrt(arr.shape[0]).astype(int)\n",
    "    arr = arr.reshape(size, size)\n",
    "    \n",
    "    img = Image.fromarray(np.uint8(arr))\n",
    "    return img\n",
    "\n",
    "from IPython import display\n",
    "import matplotlib.pyplot as plt\n",
    "import matplotlib.gridspec as gridspec\n",
    "from matplotlib.ticker import MaxNLocator\n",
    "import time\n",
    "\n",
    "def DisplayHorizontal(images, header=None, width=\"100%\", figsize=(20, 20), fontsize=20, depth=1):\n",
    "    num_images = len(images)\n",
    "    \n",
    "    fig = plt.figure(figsize=figsize)\n",
    "    for i in range(num_images):\n",
    "        image = images[i]\n",
    "        \n",
    "        fig.add_subplot(depth, num_images/depth, i+1)\n",
    "        plt.axis('off')\n",
    "        if header != None:\n",
    "            plt.title(header[i], fontsize=fontsize)\n",
    "        plt.imshow(image, cmap='Greys_r', interpolation='nearest')"
   ]
  },
  {
   "cell_type": "code",
   "execution_count": 8,
   "metadata": {
    "collapsed": true
   },
   "outputs": [],
   "source": [
    "from sklearn.preprocessing import LabelBinarizer"
   ]
  },
  {
   "cell_type": "code",
   "execution_count": 9,
   "metadata": {
    "collapsed": false
   },
   "outputs": [
    {
     "data": {
      "text/plain": [
       "LabelBinarizer(neg_label=0, pos_label=1, sparse_output=False)"
      ]
     },
     "execution_count": 9,
     "metadata": {},
     "output_type": "execute_result"
    }
   ],
   "source": [
    "lb = LabelBinarizer()\n",
    "lb.fit(range(10))"
   ]
  },
  {
   "cell_type": "markdown",
   "metadata": {},
   "source": [
    "# Implement Option"
   ]
  },
  {
   "cell_type": "code",
   "execution_count": 10,
   "metadata": {
    "collapsed": true
   },
   "outputs": [],
   "source": [
    "z_var_dim = 100\n",
    "z_category = 10\n",
    "z_weight = 2\n",
    "\n",
    "z_size = z_var_dim + z_category + z_weight\n",
    "\n",
    "img_size = 784\n",
    "\n",
    "generator_layer_shape = (\n",
    "    ((128, {}), False, None, None),\n",
    "    ((256, {}), False, None, None),\n",
    "    ((img_size, {'activation': tf.nn.tanh}), False, None, None),\n",
    ")\n",
    "\n",
    "discriminator_layer_shape = (\n",
    "    ((256, {'activation': LeakyReLU}), False, None, None),\n",
    "    ((128, {'activation': LeakyReLU}), False, None, None),\n",
    "    #((1, {'activation': tf.nn.sigmoid}), False, None, None),\n",
    ")"
   ]
  },
  {
   "cell_type": "markdown",
   "metadata": {},
   "source": [
    "### Train Option"
   ]
  },
  {
   "cell_type": "code",
   "execution_count": 11,
   "metadata": {
    "collapsed": false
   },
   "outputs": [],
   "source": [
    "epoch_size = 200\n",
    "batch_size = 512\n",
    "d_train_epoch = 4\n",
    "g_train_epoch = 1"
   ]
  },
  {
   "cell_type": "markdown",
   "metadata": {},
   "source": [
    "# Implement Variable & Model"
   ]
  },
  {
   "cell_type": "code",
   "execution_count": 12,
   "metadata": {
    "collapsed": false
   },
   "outputs": [
    {
     "name": "stdout",
     "output_type": "stream",
     "text": [
      "Generator/w0:0 Generator/b0:0\n",
      "Generator/w1:0 Generator/b1:0\n",
      "Generator/w2:0 Generator/b2:0\n",
      "Discriminator/w0:0 Discriminator/b0:0\n",
      "Discriminator/w1:0 Discriminator/b1:0\n",
      "Discriminator/woutput:0 Discriminator/boutput:0\n",
      "Discriminator/wcategory:0 Discriminator/bcategory:0\n",
      "Discriminator/wweight:0 Discriminator/bweight:0\n",
      "Discriminator/w0:0 Discriminator/b0:0\n",
      "Discriminator/w1:0 Discriminator/b1:0\n",
      "Discriminator/woutput:0 Discriminator/boutput:0\n",
      "Discriminator/wcategory:0 Discriminator/bcategory:0\n",
      "Discriminator/wweight:0 Discriminator/bweight:0\n"
     ]
    }
   ],
   "source": [
    "with tf.device('/gpu:0'):            \n",
    "    G = ModelMaker(generator_layer_shape)\n",
    "    D = ModelMaker(discriminator_layer_shape)\n",
    "        \n",
    "    Z_Var = tf.placeholder(tf.float32, [None, z_var_dim])\n",
    "    Z_Category = tf.placeholder(tf.float32, [None, z_category])\n",
    "    Z_Weight = tf.placeholder(tf.float32, [None, z_weight])\n",
    "    \n",
    "    Z = tf.concat([Z_Var, Z_Category, Z_Weight], 1)\n",
    "    #Z = tf.concat([Z_Var, Z_Category], 1)\n",
    "\n",
    "    G.create_layers(Z, name='Generator')\n",
    "    X_Fake = G.last_layer\n",
    "    X_Real = tf.placeholder(tf.float32, [None, img_size])\n",
    "    Y = tf.placeholder(tf.float32, shape=[None, z_category])\n",
    "    \n",
    "    # Fake Data\n",
    "    D.create_layers(X_Fake, name='Discriminator')\n",
    "    FC_Fake = D.last_layer\n",
    "    with tf.variable_scope('Discriminator'):\n",
    "        Y_Fake, Y_Fake_Logits = fully_connected_layer(FC_Fake, 1, activation=tf.nn.sigmoid, count='output')[:2]\n",
    "        Y_Fake_Category = fully_connected_layer(FC_Fake, z_category, activation=LeakyReLU, count='category')[0]\n",
    "        Y_Fake_Weight = fully_connected_layer(FC_Fake, z_weight, activation=tf.nn.tanh, count='weight')[0]\n",
    "        \n",
    "    # Real Data\n",
    "    D.create_layers(X_Real, name='Discriminator', reuse=True)\n",
    "    FC_Real = D.last_layer    \n",
    "    with tf.variable_scope('Discriminator', reuse=True):\n",
    "        Y_Real, Y_Real_Logits = fully_connected_layer(FC_Real, 1, activation=tf.nn.sigmoid, count='output')[:2]\n",
    "        Y_Real_Category = fully_connected_layer(FC_Real, z_category, activation=LeakyReLU, count='category')[0]\n",
    "        Y_Real_Weight = fully_connected_layer(FC_Real, z_weight, activation=tf.nn.tanh, count='weight')[0]\n",
    "    \n",
    "    Optimizer_D = tf.train.AdamOptimizer(learning_rate=1e-4, beta1=5e-1)\n",
    "    Optimizer_G = tf.train.AdamOptimizer(learning_rate=1e-4, beta1=5e-1\n",
    "    \n",
    "    Loss_D = tf.reduce_mean(tf.nn.sigmoid_cross_entropy_with_logits(logits=Y_Real_Logits, labels=tf.ones_like(Y_Real)) + \\\n",
    "        tf.nn.sigmoid_cross_entropy_with_logits(logits=Y_Fake_Logits, labels=tf.zeros_like(Y_Fake)))\n",
    "    Loss_G = tf.reduce_mean(tf.nn.sigmoid_cross_entropy_with_logits(logits=Y_Fake_Logits, labels=tf.ones_like(Y_Fake)))\n",
    "    \n",
    "    Loss_D_Category = tf.reduce_mean(tf.losses.softmax_cross_entropy(onehot_labels=Y, logits=Y_Real_Category))\n",
    "    Loss_G_Category = tf.reduce_mean(tf.losses.softmax_cross_entropy(onehot_labels=Z_Category, logits=Y_Fake_Category))\n",
    "    \n",
    "    Loss_G_Weight = tf.losses.mean_squared_error(Y_Fake_Weight, Z_Weight)\n",
    "    \n",
    "    Loss_D_Total = Loss_D + Loss_D_Category\n",
    "    Loss_G_Total = Loss_G + Loss_G_Category + Loss_G_Weight\n",
    "    \n",
    "    Param_D = tf.get_collection(tf.GraphKeys.TRAINABLE_VARIABLES, scope='Discriminator')\n",
    "    Param_G = tf.get_collection(tf.GraphKeys.TRAINABLE_VARIABLES, scope='Generator')\n",
    "    \n",
    "    Grad_D = Optimizer_D.compute_gradients(Loss_D_Total, Param_D)\n",
    "    Grad_G = Optimizer_G.compute_gradients(Loss_G_Total, Param_G)\n",
    "    \n",
    "    Train_D = Optimizer_D.apply_gradients(Grad_D)\n",
    "    Train_G = Optimizer_G.apply_gradients(Grad_G)"
   ]
  },
  {
   "cell_type": "markdown",
   "metadata": {},
   "source": [
    "# Train & Show Result"
   ]
  },
  {
   "cell_type": "code",
   "execution_count": 13,
   "metadata": {
    "collapsed": false
   },
   "outputs": [],
   "source": [
    "z_sample = np.random.normal(0, 1, size=(10, z_var_dim)).astype(np.float32)\n",
    "z_label = lb.transform(range(10))\n",
    "z_weight = np.random.random(size=[10, z_weight]) * 2 - 1"
   ]
  },
  {
   "cell_type": "code",
   "execution_count": 14,
   "metadata": {
    "collapsed": false
   },
   "outputs": [],
   "source": [
    "z_sample = np.concatenate([z_sample, z_label, z_weight], axis=1)"
   ]
  },
  {
   "cell_type": "code",
   "execution_count": 15,
   "metadata": {
    "collapsed": true
   },
   "outputs": [],
   "source": [
    "display_epoch = 5"
   ]
  },
  {
   "cell_type": "code",
   "execution_count": null,
   "metadata": {
    "collapsed": true
   },
   "outputs": [],
   "source": [
    "sess = tf.Session(config=tf.ConfigProto(gpu_options=tf.GPUOptions(per_process_gpu_memory_fraction=0.1, allow_growth=True)))\n",
    "\n",
    "tf.global_variables_initializer().run(session=sess)"
   ]
  },
  {
   "cell_type": "code",
   "execution_count": null,
   "metadata": {
    "collapsed": false,
    "scrolled": true
   },
   "outputs": [
    {
     "data": {
      "image/png": "[encoded data removed]",
      "text/plain": [
       "<matplotlib.figure.Figure at 0x1ab02e034e0>"
      ]
     },
     "metadata": {},
     "output_type": "display_data"
    }
   ],
   "source": [
    "for i in range(epoch_size):\n",
    "    ld = []\n",
    "    ld_total = []\n",
    "    lg = []\n",
    "    lg_total = []\n",
    "    \n",
    "    count = int(mnist.train.num_examples / batch_size)\n",
    "    for j in range(count):\n",
    "        batch_train, batch_target = mnist.train.next_batch(batch_size)\n",
    "        batch_train = batch_train.astype(np.float32) * 2 - 1\n",
    "        \n",
    "        batch_z = np.random.normal(0, 1, size=(batch_size, z_var_dim)).astype(np.float32)\n",
    "        batch_z_category = lb.transform(np.random.randint(0, 10, size=batch_size))\n",
    "        batch_z_weight = np.random.random(size=[batch_size, 2]) * 2 - 1\n",
    "        \n",
    "        # Discriminator Train\n",
    "        for _ in range(d_train_epoch):\n",
    "            _, loss_d, loss_d_total = sess.run([Train_D, Loss_D, Loss_D_Total], \\\n",
    "                                 feed_dict={X_Real: batch_train, Y: batch_target, \\\n",
    "                                            Z_Var: batch_z, Z_Category: batch_z_category, Z_Weight: batch_z_weight})\n",
    "            ld += [loss_d]\n",
    "            ld_total += [loss_d_total]\n",
    "\n",
    "        # Generator Train\n",
    "        for _ in range(g_train_epoch):\n",
    "            _, loss_g, loss_g_total = sess.run([Train_G, Loss_G, Loss_G_Total], \\\n",
    "                                 feed_dict={X_Real: batch_train, \\\n",
    "                                            Z_Var: batch_z, Z_Category: batch_z_category, Z_Weight: batch_z_weight})\n",
    "            lg += [loss_g]\n",
    "            lg_total += [loss_g_total]\n",
    "            \n",
    "    print('Epoch : %d, loss_d & total : %.4f & %.4f, loss_g & total : %.4f & %.4f' % \\\n",
    "          (i, np.mean(ld), np.mean(ld_total), np.mean(lg), np.mean(lg_total)))\n",
    "    \n",
    "    gen_mnist = sess.run(X_Fake, feed_dict={Z: z_sample})\n",
    "    if i % display_epoch == 0:\n",
    "        display.clear_output(wait=True)\n",
    "        DisplayHorizontal([ArrayToImage((x * 0.5 + 0.5) * 255) for x in gen_mnist])\n",
    "        display.display(plt.gcf())\n",
    "        plt.close()"
   ]
  },
  {
   "cell_type": "code",
   "execution_count": null,
   "metadata": {
    "collapsed": true
   },
   "outputs": [],
   "source": [
    "new_z_sample = np.random.normal(0, 1, size=(10, z_var_dim)).astype(np.float32)\n",
    "new_z_label = lb.transform([1] * 10)\n",
    "new_z_weight = np.transpose(([np.linspace(-1, 1, 10)] * 2), [1, 0])\n",
    "new_z_sample = np.concatenate([new_z_sample, new_z_label, new_z_weight], axis=1)"
   ]
  },
  {
   "cell_type": "code",
   "execution_count": null,
   "metadata": {
    "collapsed": false
   },
   "outputs": [],
   "source": [
    "gen_mnist = sess.run(X_Fake, feed_dict={Z: new_z_sample})\n",
    "DisplayHorizontal([ArrayToImage((x * 0.5 + 0.5) * 255) for x in gen_mnist], depth=1, figsize=(16, 4*2))\n",
    "display.display(plt.gcf())"
   ]
  }
 ],
 "metadata": {
  "anaconda-cloud": {},
  "kernelspec": {
   "display_name": "Python [conda root]",
   "language": "python",
   "name": "conda-root-py"
  },
  "language_info": {
   "codemirror_mode": {
    "name": "ipython",
    "version": 3
   },
   "file_extension": ".py",
   "mimetype": "text/x-python",
   "name": "python",
   "nbconvert_exporter": "python",
   "pygments_lexer": "ipython3",
   "version": "3.5.2"
  }
 },
 "nbformat": 4,
 "nbformat_minor": 1
}
