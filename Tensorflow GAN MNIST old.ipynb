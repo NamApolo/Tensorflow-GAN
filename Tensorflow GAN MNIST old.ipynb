{
 "cells": [
  {
   "cell_type": "code",
   "execution_count": 1,
   "metadata": {
    "collapsed": true
   },
   "outputs": [],
   "source": [
    "import tensorflow as tf\n",
    "import numpy as np"
   ]
  },
  {
   "cell_type": "markdown",
   "metadata": {},
   "source": [
    "# Download & Load MNIST Data"
   ]
  },
  {
   "cell_type": "code",
   "execution_count": 2,
   "metadata": {
    "collapsed": true
   },
   "outputs": [],
   "source": [
    "from tensorflow.examples.tutorials.mnist import input_data"
   ]
  },
  {
   "cell_type": "code",
   "execution_count": 3,
   "metadata": {
    "collapsed": false
   },
   "outputs": [
    {
     "name": "stdout",
     "output_type": "stream",
     "text": [
      "Extracting MNIST_data/train-images-idx3-ubyte.gz\n",
      "Extracting MNIST_data/train-labels-idx1-ubyte.gz\n",
      "Extracting MNIST_data/t10k-images-idx3-ubyte.gz\n",
      "Extracting MNIST_data/t10k-labels-idx1-ubyte.gz\n"
     ]
    }
   ],
   "source": [
    "mnist = input_data.read_data_sets(\"MNIST_data/\", one_hot=True)"
   ]
  },
  {
   "cell_type": "code",
   "execution_count": null,
   "metadata": {
    "collapsed": true
   },
   "outputs": [],
   "source": []
  },
  {
   "cell_type": "code",
   "execution_count": 4,
   "metadata": {
    "collapsed": true
   },
   "outputs": [],
   "source": [
    "def fully_connected_layer(x, input_size, output_size, initializer=tf.random_uniform, initializer_params={}, activation=tf.nn.relu, name=None):\n",
    "    w = tf.Variable(initializer([input_size, output_size], name='Weights', **initializer_params))\n",
    "    b = tf.Variable(tf.constant(1.0, shape=[output_size]), dtype=tf.float32, trainable=True, name='Biases')\n",
    "    \n",
    "    l = tf.nn.bias_add(tf.matmul(x, w), b)\n",
    "    \n",
    "    return activation(l, name=name), l, w, b\n"
   ]
  },
  {
   "cell_type": "code",
   "execution_count": 5,
   "metadata": {
    "collapsed": true
   },
   "outputs": [],
   "source": [
    "class ModelMaker(object):\n",
    "    def __init__(self, x, layer_sizes):\n",
    "        self.x = x\n",
    "\n",
    "        # Fully Connected Layers\n",
    "        self.fcl_sizes = layer_sizes\n",
    "\n",
    "    def create_layers(self, initializer=tf.truncated_normal, initializer_params={'dtype': tf.float32, 'stddev': 1e-1}):\n",
    "        self.parameters = []\n",
    "\n",
    "        last_layer = self.x\n",
    "        last_size = int(np.prod(last_layer.get_shape()[1:]))\n",
    "\n",
    "        # Generate Dense Layer\n",
    "        for layer_count, ((layer_size, param_dict), dropout_use, constant_dropout, dropout_rate) in enumerate(self.fcl_sizes):\n",
    "            last_layer, l, w, b = fully_connected_layer(x=last_layer, input_size=int(last_layer.get_shape()[1]), output_size=layer_size, initializer=initializer, initializer_params=initializer_params, name='Dense_%d' % (layer_count+1), **param_dict)\n",
    "            self.parameters = self.parameters + [w, b]\n",
    "\n",
    "            if dropout_use:\n",
    "                if constant_dropout:\n",
    "                    last_layer = tf.nn.dropout(last_layer, dropout_rate)\n",
    "                else:\n",
    "                    last_layer = tf.nn.dropout(last_layer, self.dropout_rates[dropout_rate])\n",
    "\n",
    "            setattr(self, 'dense_%d' % (layer_count+1), last_layer)\n",
    "\n",
    "        self.prediction = last_layer"
   ]
  },
  {
   "cell_type": "code",
   "execution_count": 6,
   "metadata": {
    "collapsed": true
   },
   "outputs": [],
   "source": [
    "from PIL import Image\n",
    "def ArrayToImage(arr):\n",
    "    \n",
    "    size = np.sqrt(arr.shape[0]).astype(int)\n",
    "    arr = arr.reshape(size, size)\n",
    "    \n",
    "    img = Image.fromarray(np.uint8(arr))\n",
    "    return img\n",
    "\n",
    "from IPython import display\n",
    "import matplotlib.pyplot as plt\n",
    "import matplotlib.gridspec as gridspec\n",
    "from matplotlib.ticker import MaxNLocator\n",
    "import time\n",
    "\n",
    "def DisplayHorizontal(images, header=None, width=\"100%\", figsize=(20, 20), fontsize=20, depth=1):\n",
    "    num_images = len(images)\n",
    "    \n",
    "    fig = plt.figure(figsize=figsize)\n",
    "    for i in range(num_images):\n",
    "        image = images[i]\n",
    "        \n",
    "        fig.add_subplot(depth, num_images/depth, i+1)\n",
    "        plt.axis('off')\n",
    "        if header != None:\n",
    "            plt.title(header[i], fontsize=fontsize)\n",
    "        plt.imshow(image, cmap='Greys_r', interpolation='nearest')"
   ]
  },
  {
   "cell_type": "markdown",
   "metadata": {},
   "source": [
    "# Implement Option"
   ]
  },
  {
   "cell_type": "code",
   "execution_count": null,
   "metadata": {
    "collapsed": true
   },
   "outputs": [],
   "source": [
    "z_var_dim = 100\n",
    "\n",
    "img_size = 784\n",
    "\n",
    "generator_layer_shape = (\n",
    "    ((128, {}), False, None, None),\n",
    "    ((256, {}), False, None, None),\n",
    "    ((img_size, {'activation': tf.nn.tanh}), False, None, None),\n",
    ")\n",
    "\n",
    "discriminator_layer_shape = (\n",
    "    ((256, {}), False, None, None),\n",
    "    ((128, {}), False, None, None),\n",
    "    ((1, {'activation': tf.nn.sigmoid}), False, None, None),\n",
    ")"
   ]
  },
  {
   "cell_type": "markdown",
   "metadata": {},
   "source": [
    "# Train Option"
   ]
  },
  {
   "cell_type": "code",
   "execution_count": 7,
   "metadata": {
    "collapsed": false
   },
   "outputs": [],
   "source": [
    "epoch_size = 100\n",
    "batch_size = 256\n",
    "\n",
    "g_train_epoch = 1"
   ]
  },
  {
   "cell_type": "markdown",
   "metadata": {},
   "source": [
    "# Implement Variable & Model"
   ]
  },
  {
   "cell_type": "code",
   "execution_count": 8,
   "metadata": {
    "collapsed": false,
    "scrolled": true
   },
   "outputs": [],
   "source": [
    "with tf.device('/gpu:0'):\n",
    "    Z = tf.placeholder(tf.float32, [None, z_var_dim])\n",
    "        \n",
    "    Optimizer = tf.train.AdamOptimizer(learning_rate=2e-4, beta1=5e-1)\n",
    "    \n",
    "    G = ModelMaker(Z, generator_layer_shape)\n",
    "    G.create_layers()\n",
    "    \n",
    "    X_Real = tf.placeholder(tf.float32, [None, img_size])\n",
    "    X_Fake = G.dense_3\n",
    "    \n",
    "    X = tf.concat([X_Real, X_Fake], 0)\n",
    "    \n",
    "    D = ModelMaker(X, discriminator_layer_shape)\n",
    "    D.create_layers()\n",
    "    \n",
    "    Y = D.dense_3\n",
    "    Div_Size = tf.div(tf.shape(Y)[0], 2)\n",
    "    Y_Real = tf.slice(Y, [0, 0], [Div_Size, -1])\n",
    "    Y_Fake = tf.slice(Y, [Div_Size, 0], [Div_Size, -1])\n",
    "    \n",
    "    loss_D = -(tf.log(Y_Real) + tf.log(1 - Y_Fake))\n",
    "    loss_G = -tf.log(Y_Fake)\n",
    "    \n",
    "    Train_G = Optimizer.minimize(loss_G, var_list=G.parameters)\n",
    "    Train_D = Optimizer.minimize(loss_D, var_list=D.parameters)"
   ]
  },
  {
   "cell_type": "markdown",
   "metadata": {},
   "source": [
    "# Train & Show Result"
   ]
  },
  {
   "cell_type": "code",
   "execution_count": 9,
   "metadata": {
    "collapsed": true
   },
   "outputs": [],
   "source": [
    "z_sample = np.random.normal(0, 1, size=(10, z_var_dim)).astype(np.float32)"
   ]
  },
  {
   "cell_type": "code",
   "execution_count": 10,
   "metadata": {
    "collapsed": true
   },
   "outputs": [],
   "source": [
    "display_epoch = 1"
   ]
  },
  {
   "cell_type": "code",
   "execution_count": null,
   "metadata": {
    "collapsed": false,
    "scrolled": true
   },
   "outputs": [
    {
     "name": "stdout",
     "output_type": "stream",
     "text": [
      "Epoch: 6\n"
     ]
    },
    {
     "data": {
      "image/png": "[encoded data removed]",
      "text/plain": [
       "<matplotlib.figure.Figure at 0x21db00e9c88>"
      ]
     },
     "metadata": {},
     "output_type": "display_data"
    },
    {
     "name": "stdout",
     "output_type": "stream",
     "text": [
      "loss_d : 0.0202\n",
      "loss_g : 6.3919\n",
      "loss_d : 0.0118\n",
      "loss_g : 6.6390\n",
      "loss_d : 0.0109\n",
      "loss_g : 7.1435\n",
      "loss_d : 0.0163\n",
      "loss_g : 7.3088\n",
      "loss_d : 0.0168\n",
      "loss_g : 6.9788\n",
      "loss_d : 0.0282\n",
      "loss_g : 5.3817\n",
      "loss_d : 0.0127\n",
      "loss_g : 6.7580\n",
      "loss_d : 0.0047\n",
      "loss_g : 7.5005\n",
      "loss_d : 0.0087\n",
      "loss_g : 7.0685\n",
      "loss_d : 0.0076\n",
      "loss_g : 6.8861\n",
      "loss_d : 0.0133\n",
      "loss_g : 7.6824\n",
      "loss_d : 0.0175\n",
      "loss_g : 7.0305\n",
      "loss_d : 0.0138\n",
      "loss_g : 6.4926\n",
      "loss_d : 0.0103\n",
      "loss_g : 6.4170\n",
      "loss_d : 0.0114\n",
      "loss_g : 6.9157\n",
      "loss_d : 0.0172\n",
      "loss_g : 6.8480\n",
      "loss_d : 0.0261\n",
      "loss_g : 5.7742\n",
      "loss_d : 0.0153\n",
      "loss_g : 6.3682\n",
      "loss_d : 0.0074\n",
      "loss_g : 7.1199\n",
      "loss_d : 0.0062\n",
      "loss_g : 7.1714\n",
      "loss_d : 0.0074\n",
      "loss_g : 6.7708\n",
      "loss_d : 0.0136\n",
      "loss_g : 7.2454\n",
      "loss_d : 0.0121\n",
      "loss_g : 7.2289\n",
      "loss_d : 0.0323\n",
      "loss_g : 6.6172\n",
      "loss_d : 0.0135\n",
      "loss_g : 7.6116\n",
      "loss_d : 0.0249\n",
      "loss_g : 7.7575\n",
      "loss_d : 0.0305\n",
      "loss_g : 6.0052\n",
      "loss_d : 0.0217\n",
      "loss_g : 7.5505\n",
      "loss_d : 0.0159\n",
      "loss_g : 7.1086\n",
      "loss_d : 0.0259\n",
      "loss_g : 6.7648\n",
      "loss_d : 0.0183\n",
      "loss_g : 7.7806\n",
      "loss_d : 0.0234\n",
      "loss_g : 6.8611\n",
      "loss_d : 0.0154\n",
      "loss_g : 5.9002\n",
      "loss_d : 0.0148\n",
      "loss_g : 7.3703\n",
      "loss_d : 0.0096\n",
      "loss_g : 7.5672\n",
      "loss_d : 0.0130\n",
      "loss_g : 6.5102\n",
      "loss_d : 0.0078\n",
      "loss_g : 6.5270\n",
      "loss_d : 0.0072\n",
      "loss_g : 6.9258\n",
      "loss_d : 0.0119\n",
      "loss_g : 7.0576\n",
      "loss_d : 0.0124\n",
      "loss_g : 7.3905\n",
      "loss_d : 0.0251\n",
      "loss_g : 6.0920\n",
      "loss_d : 0.0168\n",
      "loss_g : 6.4164\n",
      "loss_d : 0.0142\n",
      "loss_g : 7.1451\n",
      "loss_d : 0.0289\n",
      "loss_g : 6.6588\n",
      "loss_d : 0.0198\n",
      "loss_g : 7.6705\n",
      "loss_d : 0.0107\n",
      "loss_g : 7.5538\n",
      "loss_d : 0.0102\n",
      "loss_g : 6.5991\n",
      "loss_d : 0.0160\n",
      "loss_g : 6.5739\n",
      "loss_d : 0.0140\n",
      "loss_g : 7.3066\n",
      "loss_d : 0.0221\n",
      "loss_g : 6.3466\n",
      "loss_d : 0.0255\n",
      "loss_g : 6.0338\n",
      "loss_d : 0.0163\n",
      "loss_g : 7.4698\n",
      "loss_d : 0.0126\n",
      "loss_g : 7.3669\n",
      "loss_d : 0.0186\n"
     ]
    }
   ],
   "source": [
    "sess = tf.Session(config=tf.ConfigProto(gpu_options=tf.GPUOptions(per_process_gpu_memory_fraction=0.5, allow_growth=True)))\n",
    "\n",
    "tf.global_variables_initializer().run(session=sess)\n",
    "\n",
    "for i in range(epoch_size):\n",
    "    for j in range(int(mnist.train.num_examples / batch_size)):\n",
    "        batch_train, _ = mnist.train.next_batch(batch_size)\n",
    "        batch_train = batch_train.astype(np.float32) * 2 - 1\n",
    "        batch_z = np.random.normal(0, 1, size=(batch_size, z_var_dim)).astype(np.float32)\n",
    "\n",
    "        # Discriminator Train\n",
    "        _, loss_d = sess.run([Train_D, loss_D], feed_dict={X_Real: batch_train, Z: batch_z})\n",
    "\n",
    "        # Generator Train\n",
    "        if i % g_train_epoch == 0:\n",
    "            _, loss_g = sess.run([Train_G, loss_G], feed_dict={X_Real: batch_train, Z: batch_z})\n",
    "    \n",
    "    gen_mnist = sess.run(X_Fake, feed_dict={Z: z_sample})\n",
    "    if i % display_epoch == 0:\n",
    "        display.clear_output(wait=True)\n",
    "        DisplayHorizontal([ArrayToImage((x * 0.5 + 0.5) * 255) for x in gen_mnist])\n",
    "        print('Epoch: %d' % i)\n",
    "        display.display(plt.gcf())\n",
    "        plt.close()"
   ]
  },
  {
   "cell_type": "code",
   "execution_count": null,
   "metadata": {
    "collapsed": true
   },
   "outputs": [],
   "source": []
  },
  {
   "cell_type": "code",
   "execution_count": null,
   "metadata": {
    "collapsed": true
   },
   "outputs": [],
   "source": []
  },
  {
   "cell_type": "code",
   "execution_count": null,
   "metadata": {
    "collapsed": false
   },
   "outputs": [],
   "source": [
    "new_z_sample = np.zeros([10, z_var_dim])\n",
    "for i in range(10):\n",
    "    new_z_sample[i][0] = 0.1 * i\n",
    "\n",
    "gen_mnist = sess.run(X_Fake, feed_dict={Z: new_z_sample})\n",
    "DisplayHorizontal([ArrayToImage((x * 0.5 + 0.5) * 255) for x in gen_mnist], depth=1, figsize=(16, 4*2))\n",
    "display.display(plt.gcf())"
   ]
  }
 ],
 "metadata": {
  "anaconda-cloud": {},
  "kernelspec": {
   "display_name": "Python [conda root]",
   "language": "python",
   "name": "conda-root-py"
  },
  "language_info": {
   "codemirror_mode": {
    "name": "ipython",
    "version": 3
   },
   "file_extension": ".py",
   "mimetype": "text/x-python",
   "name": "python",
   "nbconvert_exporter": "python",
   "pygments_lexer": "ipython3",
   "version": "3.5.2"
  }
 },
 "nbformat": 4,
 "nbformat_minor": 1
}
