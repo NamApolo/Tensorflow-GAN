{
 "cells": [
  {
   "cell_type": "code",
   "execution_count": 13,
   "metadata": {
    "collapsed": true
   },
   "outputs": [],
   "source": [
    "import os\n",
    "import imageio\n",
    "import numpy as np\n",
    "\n",
    "from PIL import Image"
   ]
  },
  {
   "cell_type": "code",
   "execution_count": 16,
   "metadata": {
    "collapsed": true
   },
   "outputs": [],
   "source": [
    "path = '/home/etri/Documents/git/Tensorflow-GAN/result/figures/BEGAN/'\n",
    "os.chdir(path)\n",
    "epoch = range(1, 17+1)\n",
    "batch = [5064, 10128]"
   ]
  },
  {
   "cell_type": "code",
   "execution_count": 17,
   "metadata": {
    "collapsed": false
   },
   "outputs": [],
   "source": [
    "with imageio.get_writer('../../../assets/BEGAN.gif', mode='I', duration=0.3) as writer:\n",
    "    for e in epoch:\n",
    "        for b in batch:\n",
    "            img = imageio.imread('BEGAN_epoch_%d_batch_%d.png' % (e, b))\n",
    "            img = Image.fromarray(img)\n",
    "            img = img.resize((768, 768), resample=Image.ANTIALIAS)\n",
    "            writer.append_data(np.array(img))"
   ]
  },
  {
   "cell_type": "code",
   "execution_count": null,
   "metadata": {
    "collapsed": true
   },
   "outputs": [],
   "source": []
  }
 ],
 "metadata": {
  "anaconda-cloud": {},
  "kernelspec": {
   "display_name": "Python [conda root]",
   "language": "python",
   "name": "conda-root-py"
  },
  "language_info": {
   "codemirror_mode": {
    "name": "ipython",
    "version": 3
   },
   "file_extension": ".py",
   "mimetype": "text/x-python",
   "name": "python",
   "nbconvert_exporter": "python",
   "pygments_lexer": "ipython3",
   "version": "3.5.2"
  }
 },
 "nbformat": 4,
 "nbformat_minor": 1
}
